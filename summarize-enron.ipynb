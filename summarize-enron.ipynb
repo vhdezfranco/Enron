{
 "cells": [
  {
   "cell_type": "code",
   "execution_count": 521,
   "metadata": {},
   "outputs": [],
   "source": [
    "#!/usr/bin/env python3\n",
    "\n",
    "import pandas as pd\n",
    "import numpy as np\n",
    "import datetime\n",
    "import matplotlib.pyplot as plt\n",
    "import csv"
   ]
  },
  {
   "cell_type": "code",
   "execution_count": 522,
   "metadata": {},
   "outputs": [],
   "source": [
    "def change_column_order(df, col_name, index):\n",
    "    cols = df.columns.tolist()\n",
    "    cols.remove(col_name)\n",
    "    cols.insert(index, col_name)\n",
    "    return df[cols]\n",
    "\n",
    "def split_df(dataframe, col_name, sep):\n",
    "    orig_col_index = dataframe.columns.tolist().index(col_name)\n",
    "    orig_index_name = dataframe.index.name\n",
    "    orig_columns = dataframe.columns\n",
    "    dataframe = dataframe.reset_index()  \n",
    "    index_col_name = (set(dataframe.columns) - set(orig_columns)).pop()\n",
    "    df_split = pd.DataFrame(\n",
    "        pd.DataFrame(dataframe[col_name].str.split(sep).tolist())\n",
    "        .stack().reset_index(level=1, drop=1), columns=[col_name])\n",
    "    df = dataframe.drop(col_name, axis=1)\n",
    "    df = pd.merge(df, df_split, left_index=True, right_index=True, how='inner')\n",
    "    df = df.set_index(index_col_name)\n",
    "    df.index.name = orig_index_name\n",
    "    # merge adds the column to the last place, so we need to move it back\n",
    "    return change_column_order(df, col_name, orig_col_index)\n",
    "\n"
   ]
  },
  {
   "cell_type": "code",
   "execution_count": 523,
   "metadata": {},
   "outputs": [],
   "source": [
    "# Loading Data\n",
    "\n",
    "df = pd.read_csv(r'enron-event-history-all.csv', header = None, low_memory=False)\n"
   ]
  },
  {
   "cell_type": "code",
   "execution_count": 532,
   "metadata": {},
   "outputs": [
    {
     "name": "stdout",
     "output_type": "stream",
     "text": [
      "Num. Rows: 205731 Num. Columns:  4\n"
     ]
    },
    {
     "data": {
      "text/html": [
       "<div>\n",
       "<style scoped>\n",
       "    .dataframe tbody tr th:only-of-type {\n",
       "        vertical-align: middle;\n",
       "    }\n",
       "\n",
       "    .dataframe tbody tr th {\n",
       "        vertical-align: top;\n",
       "    }\n",
       "\n",
       "    .dataframe thead th {\n",
       "        text-align: right;\n",
       "    }\n",
       "</style>\n",
       "<table border=\"1\" class=\"dataframe\">\n",
       "  <thead>\n",
       "    <tr style=\"text-align: right;\">\n",
       "      <th></th>\n",
       "      <th>time</th>\n",
       "      <th>message_identifier</th>\n",
       "      <th>sender</th>\n",
       "      <th>recipients</th>\n",
       "    </tr>\n",
       "  </thead>\n",
       "  <tbody>\n",
       "    <tr>\n",
       "      <th>0</th>\n",
       "      <td>896308260000</td>\n",
       "      <td>&lt;GKNWYZTKAVMKBCTMA3ZZSQIBITG5OD1KA@zlsvr22&gt;</td>\n",
       "      <td>Christopher Behney</td>\n",
       "      <td>Toni P Schulenburg|mary hain</td>\n",
       "    </tr>\n",
       "    <tr>\n",
       "      <th>1</th>\n",
       "      <td>909790980000</td>\n",
       "      <td>&lt;N5QXQ4CHS04FBSJO3TALWRBXATDTIWZ0B@zlsvr22&gt;</td>\n",
       "      <td>mark legal taylor</td>\n",
       "      <td>Marc.R.Cutler@BankAmerica.com</td>\n",
       "    </tr>\n",
       "    <tr>\n",
       "      <th>2</th>\n",
       "      <td>909791760000</td>\n",
       "      <td>&lt;FEJ0YLF5MHTTF2QHNWMRUODCCHDCPUA5A@zlsvr22&gt;</td>\n",
       "      <td>mark legal taylor</td>\n",
       "      <td>Marc.R.Cutler@BankAmerica.com</td>\n",
       "    </tr>\n",
       "    <tr>\n",
       "      <th>3</th>\n",
       "      <td>909792120000</td>\n",
       "      <td>&lt;NFC21LWTHYCKD4JV1IQMLSQ4JX2WY1JCB@zlsvr22&gt;</td>\n",
       "      <td>mark legal taylor</td>\n",
       "      <td>shari stack</td>\n",
       "    </tr>\n",
       "    <tr>\n",
       "      <th>4</th>\n",
       "      <td>909795960000</td>\n",
       "      <td>&lt;LAGJQ1MQZ2HX3APYD2TBODXUA4XF04UOA@zlsvr22&gt;</td>\n",
       "      <td>mark legal taylor</td>\n",
       "      <td>Marc.R.Cutler@BankAmerica.com</td>\n",
       "    </tr>\n",
       "  </tbody>\n",
       "</table>\n",
       "</div>"
      ],
      "text/plain": [
       "           time                           message_identifier  \\\n",
       "0  896308260000  <GKNWYZTKAVMKBCTMA3ZZSQIBITG5OD1KA@zlsvr22>   \n",
       "1  909790980000  <N5QXQ4CHS04FBSJO3TALWRBXATDTIWZ0B@zlsvr22>   \n",
       "2  909791760000  <FEJ0YLF5MHTTF2QHNWMRUODCCHDCPUA5A@zlsvr22>   \n",
       "3  909792120000  <NFC21LWTHYCKD4JV1IQMLSQ4JX2WY1JCB@zlsvr22>   \n",
       "4  909795960000  <LAGJQ1MQZ2HX3APYD2TBODXUA4XF04UOA@zlsvr22>   \n",
       "\n",
       "               sender                     recipients  \n",
       "0  Christopher Behney   Toni P Schulenburg|mary hain  \n",
       "1   mark legal taylor  Marc.R.Cutler@BankAmerica.com  \n",
       "2   mark legal taylor  Marc.R.Cutler@BankAmerica.com  \n",
       "3   mark legal taylor                    shari stack  \n",
       "4   mark legal taylor  Marc.R.Cutler@BankAmerica.com  "
      ]
     },
     "execution_count": 532,
     "metadata": {},
     "output_type": "execute_result"
    }
   ],
   "source": [
    "# Assigning Column Names\n",
    "df.columns = ['time', 'message_identifier', 'sender', 'recipients', 'topic', 'mode']\n",
    "df = df.drop(columns=['topic', 'mode'])\n",
    "\n",
    "print('Num. Rows:', df.shape[0], 'Num. Columns: ', df.shape[1])\n",
    "df.head(5)\n"
   ]
  },
  {
   "cell_type": "code",
   "execution_count": 533,
   "metadata": {},
   "outputs": [
    {
     "name": "stdout",
     "output_type": "stream",
     "text": [
      "<class 'pandas.core.frame.DataFrame'>\n",
      "RangeIndex: 205731 entries, 0 to 205730\n",
      "Data columns (total 4 columns):\n",
      "time                  205731 non-null int64\n",
      "message_identifier    205731 non-null object\n",
      "sender                205731 non-null object\n",
      "recipients            205731 non-null object\n",
      "dtypes: int64(1), object(3)\n",
      "memory usage: 6.3+ MB\n"
     ]
    }
   ],
   "source": [
    "# Reviewing general info of Dataframe\n",
    "df.info()"
   ]
  },
  {
   "cell_type": "code",
   "execution_count": 534,
   "metadata": {},
   "outputs": [],
   "source": [
    "# Replacing null values with blanks\n",
    "\n",
    "df['recipients'] = df.recipients.fillna('')\n",
    "df['sender'] = df.sender.fillna('')\n",
    "\n",
    "df_new['sender'] = df_new['sender'].map(lambda x: x.strip())\n"
   ]
  },
  {
   "cell_type": "code",
   "execution_count": 535,
   "metadata": {},
   "outputs": [],
   "source": [
    "# Column 'recipients' could have multiple emails separated by '|'. This function creates as many rows as emails\n",
    "df_new = split_df(df, 'recipients', '|')"
   ]
  },
  {
   "cell_type": "code",
   "execution_count": 536,
   "metadata": {},
   "outputs": [
    {
     "name": "stdout",
     "output_type": "stream",
     "text": [
      "<class 'pandas.core.frame.DataFrame'>\n",
      "Int64Index: 435896 entries, 0 to 205730\n",
      "Data columns (total 4 columns):\n",
      "time                  435896 non-null int64\n",
      "message_identifier    435896 non-null object\n",
      "sender                435896 non-null object\n",
      "recipients            435896 non-null object\n",
      "dtypes: int64(1), object(3)\n",
      "memory usage: 16.6+ MB\n"
     ]
    }
   ],
   "source": [
    "df_new.info()"
   ]
  },
  {
   "cell_type": "code",
   "execution_count": 537,
   "metadata": {},
   "outputs": [],
   "source": [
    "df_new['recipients'] = df_new['recipients'].map(lambda x: x.strip())\n",
    "\n",
    "# Note:\n",
    "# 'recipients'/'sender' have cases with single character values such as '-', '.', n', 'j', etc. They were left unchanged\n",
    "# 'recipients'/sender have cases where the value contains 'undisclosed' or 'undisclosed recipients'. Without additional information, they were left unchanged\n"
   ]
  },
  {
   "cell_type": "code",
   "execution_count": 538,
   "metadata": {},
   "outputs": [
    {
     "data": {
      "text/html": [
       "<div>\n",
       "<style scoped>\n",
       "    .dataframe tbody tr th:only-of-type {\n",
       "        vertical-align: middle;\n",
       "    }\n",
       "\n",
       "    .dataframe tbody tr th {\n",
       "        vertical-align: top;\n",
       "    }\n",
       "\n",
       "    .dataframe thead th {\n",
       "        text-align: right;\n",
       "    }\n",
       "</style>\n",
       "<table border=\"1\" class=\"dataframe\">\n",
       "  <thead>\n",
       "    <tr style=\"text-align: right;\">\n",
       "      <th></th>\n",
       "      <th>time</th>\n",
       "      <th>message_identifier</th>\n",
       "      <th>sender</th>\n",
       "      <th>recipients</th>\n",
       "    </tr>\n",
       "  </thead>\n",
       "  <tbody>\n",
       "    <tr>\n",
       "      <th>0</th>\n",
       "      <td>896308260000</td>\n",
       "      <td>&lt;GKNWYZTKAVMKBCTMA3ZZSQIBITG5OD1KA@zlsvr22&gt;</td>\n",
       "      <td>Christopher Behney</td>\n",
       "      <td>Toni P Schulenburg</td>\n",
       "    </tr>\n",
       "    <tr>\n",
       "      <th>0</th>\n",
       "      <td>896308260000</td>\n",
       "      <td>&lt;GKNWYZTKAVMKBCTMA3ZZSQIBITG5OD1KA@zlsvr22&gt;</td>\n",
       "      <td>Christopher Behney</td>\n",
       "      <td>mary hain</td>\n",
       "    </tr>\n",
       "    <tr>\n",
       "      <th>1</th>\n",
       "      <td>909790980000</td>\n",
       "      <td>&lt;N5QXQ4CHS04FBSJO3TALWRBXATDTIWZ0B@zlsvr22&gt;</td>\n",
       "      <td>mark legal taylor</td>\n",
       "      <td>Marc.R.Cutler@BankAmerica.com</td>\n",
       "    </tr>\n",
       "    <tr>\n",
       "      <th>2</th>\n",
       "      <td>909791760000</td>\n",
       "      <td>&lt;FEJ0YLF5MHTTF2QHNWMRUODCCHDCPUA5A@zlsvr22&gt;</td>\n",
       "      <td>mark legal taylor</td>\n",
       "      <td>Marc.R.Cutler@BankAmerica.com</td>\n",
       "    </tr>\n",
       "    <tr>\n",
       "      <th>3</th>\n",
       "      <td>909792120000</td>\n",
       "      <td>&lt;NFC21LWTHYCKD4JV1IQMLSQ4JX2WY1JCB@zlsvr22&gt;</td>\n",
       "      <td>mark legal taylor</td>\n",
       "      <td>shari stack</td>\n",
       "    </tr>\n",
       "  </tbody>\n",
       "</table>\n",
       "</div>"
      ],
      "text/plain": [
       "           time                           message_identifier  \\\n",
       "0  896308260000  <GKNWYZTKAVMKBCTMA3ZZSQIBITG5OD1KA@zlsvr22>   \n",
       "0  896308260000  <GKNWYZTKAVMKBCTMA3ZZSQIBITG5OD1KA@zlsvr22>   \n",
       "1  909790980000  <N5QXQ4CHS04FBSJO3TALWRBXATDTIWZ0B@zlsvr22>   \n",
       "2  909791760000  <FEJ0YLF5MHTTF2QHNWMRUODCCHDCPUA5A@zlsvr22>   \n",
       "3  909792120000  <NFC21LWTHYCKD4JV1IQMLSQ4JX2WY1JCB@zlsvr22>   \n",
       "\n",
       "               sender                     recipients  \n",
       "0  Christopher Behney             Toni P Schulenburg  \n",
       "0  Christopher Behney                      mary hain  \n",
       "1   mark legal taylor  Marc.R.Cutler@BankAmerica.com  \n",
       "2   mark legal taylor  Marc.R.Cutler@BankAmerica.com  \n",
       "3   mark legal taylor                    shari stack  "
      ]
     },
     "execution_count": 538,
     "metadata": {},
     "output_type": "execute_result"
    }
   ],
   "source": [
    "df_new.head(5)"
   ]
  },
  {
   "cell_type": "code",
   "execution_count": 539,
   "metadata": {},
   "outputs": [
    {
     "data": {
      "text/html": [
       "<div>\n",
       "<style scoped>\n",
       "    .dataframe tbody tr th:only-of-type {\n",
       "        vertical-align: middle;\n",
       "    }\n",
       "\n",
       "    .dataframe tbody tr th {\n",
       "        vertical-align: top;\n",
       "    }\n",
       "\n",
       "    .dataframe thead th {\n",
       "        text-align: right;\n",
       "    }\n",
       "</style>\n",
       "<table border=\"1\" class=\"dataframe\">\n",
       "  <thead>\n",
       "    <tr style=\"text-align: right;\">\n",
       "      <th></th>\n",
       "      <th>sender</th>\n",
       "      <th>number_recipients</th>\n",
       "      <th>number_emails_sent</th>\n",
       "      <th>row_num</th>\n",
       "    </tr>\n",
       "  </thead>\n",
       "  <tbody>\n",
       "    <tr>\n",
       "      <th>6409</th>\n",
       "      <td>jeff dasovich</td>\n",
       "      <td>929</td>\n",
       "      <td>5230</td>\n",
       "      <td>0</td>\n",
       "    </tr>\n",
       "    <tr>\n",
       "      <th>12569</th>\n",
       "      <td>sara shackleton</td>\n",
       "      <td>958</td>\n",
       "      <td>4588</td>\n",
       "      <td>1</td>\n",
       "    </tr>\n",
       "    <tr>\n",
       "      <th>2349</th>\n",
       "      <td>chris germany</td>\n",
       "      <td>783</td>\n",
       "      <td>3697</td>\n",
       "      <td>2</td>\n",
       "    </tr>\n",
       "    <tr>\n",
       "      <th>10580</th>\n",
       "      <td>notes</td>\n",
       "      <td>183</td>\n",
       "      <td>3152</td>\n",
       "      <td>3</td>\n",
       "    </tr>\n",
       "    <tr>\n",
       "      <th>11141</th>\n",
       "      <td>pete davis</td>\n",
       "      <td>16</td>\n",
       "      <td>3124</td>\n",
       "      <td>4</td>\n",
       "    </tr>\n",
       "  </tbody>\n",
       "</table>\n",
       "</div>"
      ],
      "text/plain": [
       "                sender  number_recipients  number_emails_sent  row_num\n",
       "6409     jeff dasovich                929                5230        0\n",
       "12569  sara shackleton                958                4588        1\n",
       "2349     chris germany                783                3697        2\n",
       "10580            notes                183                3152        3\n",
       "11141       pete davis                 16                3124        4"
      ]
     },
     "execution_count": 539,
     "metadata": {},
     "output_type": "execute_result"
    }
   ],
   "source": [
    "# Creating Outcome: Sender / Number Recipients / Number Emails Sent\n",
    "\n",
    "Outcome_1 = df_new.groupby('sender', as_index=False).agg({\"recipients\": \"nunique\", \"message_identifier\": \"nunique\" })\n",
    "Outcome_1 = Outcome_1.sort_values(by=['message_identifier'], ascending = False)\n",
    "Outcome_1.columns = ['sender', 'number_recipients', 'number_emails_sent']\n",
    "Outcome_1['row_num'] = Outcome_1.reset_index().index\n",
    "Outcome_1.head(5)"
   ]
  },
  {
   "cell_type": "code",
   "execution_count": 540,
   "metadata": {},
   "outputs": [],
   "source": [
    "# Converting Unix time to Date/Time format\n",
    "df_new['time_new']=(pd.to_datetime(df_new['time'],unit='ms'))\n",
    "df_new['time_quarter'] = df_new['time_new'].dt.to_period(\"Q\")\n"
   ]
  },
  {
   "cell_type": "code",
   "execution_count": 541,
   "metadata": {},
   "outputs": [
    {
     "data": {
      "text/html": [
       "<div>\n",
       "<style scoped>\n",
       "    .dataframe tbody tr th:only-of-type {\n",
       "        vertical-align: middle;\n",
       "    }\n",
       "\n",
       "    .dataframe tbody tr th {\n",
       "        vertical-align: top;\n",
       "    }\n",
       "\n",
       "    .dataframe thead th {\n",
       "        text-align: right;\n",
       "    }\n",
       "</style>\n",
       "<table border=\"1\" class=\"dataframe\">\n",
       "  <thead>\n",
       "    <tr style=\"text-align: right;\">\n",
       "      <th></th>\n",
       "      <th>sender</th>\n",
       "      <th>quarter</th>\n",
       "      <th>recipients</th>\n",
       "      <th>emails sent</th>\n",
       "    </tr>\n",
       "  </thead>\n",
       "  <tbody>\n",
       "    <tr>\n",
       "      <th>0</th>\n",
       "      <td></td>\n",
       "      <td>2000Q3</td>\n",
       "      <td>1</td>\n",
       "      <td>2</td>\n",
       "    </tr>\n",
       "    <tr>\n",
       "      <th>1</th>\n",
       "      <td></td>\n",
       "      <td>2000Q4</td>\n",
       "      <td>1</td>\n",
       "      <td>1</td>\n",
       "    </tr>\n",
       "    <tr>\n",
       "      <th>2</th>\n",
       "      <td></td>\n",
       "      <td>2001Q1</td>\n",
       "      <td>6</td>\n",
       "      <td>6</td>\n",
       "    </tr>\n",
       "    <tr>\n",
       "      <th>3</th>\n",
       "      <td></td>\n",
       "      <td>2001Q2</td>\n",
       "      <td>4</td>\n",
       "      <td>14</td>\n",
       "    </tr>\n",
       "    <tr>\n",
       "      <th>4</th>\n",
       "      <td></td>\n",
       "      <td>2001Q4</td>\n",
       "      <td>11</td>\n",
       "      <td>7</td>\n",
       "    </tr>\n",
       "  </tbody>\n",
       "</table>\n",
       "</div>"
      ],
      "text/plain": [
       "  sender quarter  recipients  emails sent\n",
       "0         2000Q3           1            2\n",
       "1         2000Q4           1            1\n",
       "2         2001Q1           6            6\n",
       "3         2001Q2           4           14\n",
       "4         2001Q4          11            7"
      ]
     },
     "execution_count": 541,
     "metadata": {},
     "output_type": "execute_result"
    }
   ],
   "source": [
    "# Number of Messages sent by Quarter\n",
    "\n",
    "Outcome_2 = df_new.groupby(['sender','time_quarter'], as_index=False).agg({\"recipients\": \"nunique\", \"message_identifier\": \"nunique\" })\n",
    "Outcome_2.columns = ['sender', 'quarter', 'recipients', 'emails sent']\n",
    "Outcome_2.head(5)"
   ]
  },
  {
   "cell_type": "code",
   "execution_count": 542,
   "metadata": {},
   "outputs": [
    {
     "data": {
      "text/html": [
       "<div>\n",
       "<style scoped>\n",
       "    .dataframe tbody tr th:only-of-type {\n",
       "        vertical-align: middle;\n",
       "    }\n",
       "\n",
       "    .dataframe tbody tr th {\n",
       "        vertical-align: top;\n",
       "    }\n",
       "\n",
       "    .dataframe thead th {\n",
       "        text-align: right;\n",
       "    }\n",
       "</style>\n",
       "<table border=\"1\" class=\"dataframe\">\n",
       "  <thead>\n",
       "    <tr style=\"text-align: right;\">\n",
       "      <th></th>\n",
       "      <th>sender</th>\n",
       "      <th>quarter</th>\n",
       "      <th>emails sent</th>\n",
       "    </tr>\n",
       "  </thead>\n",
       "  <tbody>\n",
       "    <tr>\n",
       "      <th>12</th>\n",
       "      <td>jeff dasovich</td>\n",
       "      <td>1999Q4</td>\n",
       "      <td>1</td>\n",
       "    </tr>\n",
       "    <tr>\n",
       "      <th>13</th>\n",
       "      <td>jeff dasovich</td>\n",
       "      <td>2000Q1</td>\n",
       "      <td>1</td>\n",
       "    </tr>\n",
       "    <tr>\n",
       "      <th>14</th>\n",
       "      <td>jeff dasovich</td>\n",
       "      <td>2000Q2</td>\n",
       "      <td>3</td>\n",
       "    </tr>\n",
       "    <tr>\n",
       "      <th>15</th>\n",
       "      <td>jeff dasovich</td>\n",
       "      <td>2000Q3</td>\n",
       "      <td>435</td>\n",
       "    </tr>\n",
       "    <tr>\n",
       "      <th>16</th>\n",
       "      <td>jeff dasovich</td>\n",
       "      <td>2000Q4</td>\n",
       "      <td>996</td>\n",
       "    </tr>\n",
       "  </tbody>\n",
       "</table>\n",
       "</div>"
      ],
      "text/plain": [
       "           sender quarter  emails sent\n",
       "12  jeff dasovich  1999Q4            1\n",
       "13  jeff dasovich  2000Q1            1\n",
       "14  jeff dasovich  2000Q2            3\n",
       "15  jeff dasovich  2000Q3          435\n",
       "16  jeff dasovich  2000Q4          996"
      ]
     },
     "execution_count": 542,
     "metadata": {},
     "output_type": "execute_result"
    }
   ],
   "source": [
    "# Selecting Only the most prolific Senders (top 5)\n",
    "Graph_1 = pd.merge(Outcome_2[['sender','quarter','emails sent']], Outcome_1[['sender','row_num']][Outcome_1['row_num'] <= 4], on='sender', how='inner')\n",
    "Graph_1 = Graph_1.sort_values(by=['row_num','quarter'], ascending = True)\n",
    "Graph_1 = Graph_1.drop(columns=['row_num'])\n",
    "Graph_1.head(5)"
   ]
  },
  {
   "cell_type": "code",
   "execution_count": 543,
   "metadata": {},
   "outputs": [],
   "source": [
    "# Outcome 1: A .csv file with three columns \"person\", \"sent\", \"received\", where the\n",
    "# final two columns contain the number of emails that person sent or received in the data set. \n",
    "# This file should be sorted by the number of emails sent."
   ]
  },
  {
   "cell_type": "code",
   "execution_count": 544,
   "metadata": {},
   "outputs": [],
   "source": [
    "df_sent = df_new.groupby(['sender'], as_index=False).agg({\"message_identifier\": \"nunique\" })\n",
    "df_sent.columns = ['person', 'sent']"
   ]
  },
  {
   "cell_type": "code",
   "execution_count": 545,
   "metadata": {},
   "outputs": [],
   "source": [
    "df_received = df_new.groupby(['recipients'], as_index=False).agg({\"message_identifier\": \"nunique\" })\n",
    "df_received.columns = ['person', 'received']"
   ]
  },
  {
   "cell_type": "code",
   "execution_count": 546,
   "metadata": {},
   "outputs": [
    {
     "data": {
      "text/html": [
       "<div>\n",
       "<style scoped>\n",
       "    .dataframe tbody tr th:only-of-type {\n",
       "        vertical-align: middle;\n",
       "    }\n",
       "\n",
       "    .dataframe tbody tr th {\n",
       "        vertical-align: top;\n",
       "    }\n",
       "\n",
       "    .dataframe thead th {\n",
       "        text-align: right;\n",
       "    }\n",
       "</style>\n",
       "<table border=\"1\" class=\"dataframe\">\n",
       "  <thead>\n",
       "    <tr style=\"text-align: right;\">\n",
       "      <th></th>\n",
       "      <th>person</th>\n",
       "      <th>sent</th>\n",
       "      <th>received</th>\n",
       "    </tr>\n",
       "  </thead>\n",
       "  <tbody>\n",
       "    <tr>\n",
       "      <th>6409</th>\n",
       "      <td>jeff dasovich</td>\n",
       "      <td>5230.0</td>\n",
       "      <td>2242.0</td>\n",
       "    </tr>\n",
       "    <tr>\n",
       "      <th>12569</th>\n",
       "      <td>sara shackleton</td>\n",
       "      <td>4588.0</td>\n",
       "      <td>5210.0</td>\n",
       "    </tr>\n",
       "    <tr>\n",
       "      <th>2349</th>\n",
       "      <td>chris germany</td>\n",
       "      <td>3697.0</td>\n",
       "      <td>1589.0</td>\n",
       "    </tr>\n",
       "    <tr>\n",
       "      <th>10580</th>\n",
       "      <td>notes</td>\n",
       "      <td>3152.0</td>\n",
       "      <td>888.0</td>\n",
       "    </tr>\n",
       "    <tr>\n",
       "      <th>11141</th>\n",
       "      <td>pete davis</td>\n",
       "      <td>3124.0</td>\n",
       "      <td>853.0</td>\n",
       "    </tr>\n",
       "  </tbody>\n",
       "</table>\n",
       "</div>"
      ],
      "text/plain": [
       "                person    sent  received\n",
       "6409     jeff dasovich  5230.0    2242.0\n",
       "12569  sara shackleton  4588.0    5210.0\n",
       "2349     chris germany  3697.0    1589.0\n",
       "10580            notes  3152.0     888.0\n",
       "11141       pete davis  3124.0     853.0"
      ]
     },
     "execution_count": 546,
     "metadata": {},
     "output_type": "execute_result"
    }
   ],
   "source": [
    "df_1 = df_sent.merge(df_received, how='outer', left_on=['person'], right_on=['person'])\n",
    "\n",
    "df_1['sent'].fillna(0, inplace=True)\n",
    "df_1['received'].fillna(0, inplace=True)\n",
    "df_1 = df_1.sort_values(by=['sent'], ascending = False)\n",
    "df_1.head(5)"
   ]
  },
  {
   "cell_type": "code",
   "execution_count": 547,
   "metadata": {},
   "outputs": [],
   "source": [
    "# Creating CSV file\n",
    "df_1.to_csv(\"person_sent_received.csv\", sep=\",\", float_format='%.2f',index=False, line_terminator='\\n',encoding='utf-8')\n"
   ]
  },
  {
   "cell_type": "code",
   "execution_count": 548,
   "metadata": {},
   "outputs": [
    {
     "data": {
      "image/png": "[encoded data removed]",
      "text/plain": [
       "<Figure size 432x288 with 1 Axes>"
      ]
     },
     "metadata": {
      "needs_background": "light"
     },
     "output_type": "display_data"
    }
   ],
   "source": [
    "# 2. A PNG image visualizing the number of emails sent over time by some of the\n",
    "#   most prolific senders in (1). There are no specific guidelines regarding the\n",
    "#   format and specific content of the visualization---you can choose which and\n",
    "#   how many senders to include, and the type of plot---but you should strive to\n",
    "#   make it as clear and informative as possible, making sure to represent time\n",
    "#   in some meaningful way.\n",
    "\n",
    "\n",
    "# This Graph shows the 5 most prolific senders, showing the number of emails sent by quarter\n",
    "# Importantly, it shows whether the number of emails sent increased or decreased at specific times\n",
    "\n",
    "plt_graph_1 = Graph_1.groupby(['quarter','sender']).sum().unstack().plot()\n",
    "fig = plt_graph_1.get_figure()\n",
    "fig.savefig('enron_graph_1.png')"
   ]
  },
  {
   "cell_type": "code",
   "execution_count": 550,
   "metadata": {},
   "outputs": [
    {
     "data": {
      "text/html": [
       "<div>\n",
       "<style scoped>\n",
       "    .dataframe tbody tr th:only-of-type {\n",
       "        vertical-align: middle;\n",
       "    }\n",
       "\n",
       "    .dataframe tbody tr th {\n",
       "        vertical-align: top;\n",
       "    }\n",
       "\n",
       "    .dataframe thead th {\n",
       "        text-align: right;\n",
       "    }\n",
       "</style>\n",
       "<table border=\"1\" class=\"dataframe\">\n",
       "  <thead>\n",
       "    <tr style=\"text-align: right;\">\n",
       "      <th></th>\n",
       "      <th>message_identifier</th>\n",
       "      <th>sender</th>\n",
       "      <th>recipients</th>\n",
       "      <th>quarter</th>\n",
       "    </tr>\n",
       "  </thead>\n",
       "  <tbody>\n",
       "    <tr>\n",
       "      <th>0</th>\n",
       "      <td>&lt;P2E4GOIJJ3AMWQLL1VFVBIEQCOKV3PXAB@zlsvr22&gt;</td>\n",
       "      <td>Martin.Esarte@clorox.com</td>\n",
       "      <td>jeff dasovich</td>\n",
       "      <td>1999Q3</td>\n",
       "    </tr>\n",
       "    <tr>\n",
       "      <th>1</th>\n",
       "      <td>&lt;CMOJRFKLNSY30A3AOBGMCKLAOI5X1ABNB@zlsvr22&gt;</td>\n",
       "      <td>hudacko</td>\n",
       "      <td>jeff dasovich</td>\n",
       "      <td>1999Q3</td>\n",
       "    </tr>\n",
       "    <tr>\n",
       "      <th>2</th>\n",
       "      <td>&lt;PG5U0E0ROCKGW5RPMGY4CUPMUKCATJFWB@zlsvr22&gt;</td>\n",
       "      <td>mark mcclelland</td>\n",
       "      <td>jeff dasovich</td>\n",
       "      <td>1999Q3</td>\n",
       "    </tr>\n",
       "    <tr>\n",
       "      <th>3</th>\n",
       "      <td>&lt;PBWJ51PORXNX2J0HISGDZN5SUIPRPOKXB@zlsvr22&gt;</td>\n",
       "      <td>orders amazon</td>\n",
       "      <td>jeff dasovich</td>\n",
       "      <td>1999Q3</td>\n",
       "    </tr>\n",
       "    <tr>\n",
       "      <th>4</th>\n",
       "      <td>&lt;E3M4IJ2YZYZHUR0U1UK2QCJ0MICJF3S2B@zlsvr22&gt;</td>\n",
       "      <td>orders amazon</td>\n",
       "      <td>jeff dasovich</td>\n",
       "      <td>1999Q3</td>\n",
       "    </tr>\n",
       "  </tbody>\n",
       "</table>\n",
       "</div>"
      ],
      "text/plain": [
       "                            message_identifier                    sender  \\\n",
       "0  <P2E4GOIJJ3AMWQLL1VFVBIEQCOKV3PXAB@zlsvr22>  Martin.Esarte@clorox.com   \n",
       "1  <CMOJRFKLNSY30A3AOBGMCKLAOI5X1ABNB@zlsvr22>                   hudacko   \n",
       "2  <PG5U0E0ROCKGW5RPMGY4CUPMUKCATJFWB@zlsvr22>           mark mcclelland   \n",
       "3  <PBWJ51PORXNX2J0HISGDZN5SUIPRPOKXB@zlsvr22>             orders amazon   \n",
       "4  <E3M4IJ2YZYZHUR0U1UK2QCJ0MICJF3S2B@zlsvr22>             orders amazon   \n",
       "\n",
       "      recipients quarter  \n",
       "0  jeff dasovich  1999Q3  \n",
       "1  jeff dasovich  1999Q3  \n",
       "2  jeff dasovich  1999Q3  \n",
       "3  jeff dasovich  1999Q3  \n",
       "4  jeff dasovich  1999Q3  "
      ]
     },
     "execution_count": 550,
     "metadata": {},
     "output_type": "execute_result"
    }
   ],
   "source": [
    "\n",
    "# Identifyng cases where the 5 most prolific senders were the recipient of email and counting number of unique senders \n",
    "\n",
    "# Selecting Only the most 10 prolific Senders\n",
    "df_recip = pd.merge(Outcome_1[['sender','row_num']][Outcome_1['row_num'] <= 4], df_new, left_on='sender', right_on = 'recipients', how='inner')\n",
    "df_recip = df_recip.drop(columns=['sender_x','row_num','time', 'time_new'])\n",
    "df_recip.columns = ['message_identifier', 'sender', 'recipients', 'quarter']\n",
    "df_recip.head(5)"
   ]
  },
  {
   "cell_type": "code",
   "execution_count": 551,
   "metadata": {},
   "outputs": [],
   "source": [
    "# 3. A visualization that shows, for the same people, the number of unique\n",
    "#   people/email addresses who contacted them over the same time period. The raw\n",
    "#   number of unique incoming contacts is not quite as important as the relative\n",
    "#   numbers (compared across the individuals from (2) ) and how they change over\n",
    "#   time.\n",
    "\n",
    "\n",
    "Graph_2 = df_recip.groupby(['recipients', 'quarter'], as_index=False).agg({\"sender\": \"nunique\" })\n",
    "Graph_2.columns = ['top senders', 'quarter', 'num contacts']\n"
   ]
  },
  {
   "cell_type": "code",
   "execution_count": 552,
   "metadata": {},
   "outputs": [
    {
     "data": {
      "text/html": [
       "<div>\n",
       "<style scoped>\n",
       "    .dataframe tbody tr th:only-of-type {\n",
       "        vertical-align: middle;\n",
       "    }\n",
       "\n",
       "    .dataframe tbody tr th {\n",
       "        vertical-align: top;\n",
       "    }\n",
       "\n",
       "    .dataframe thead th {\n",
       "        text-align: right;\n",
       "    }\n",
       "</style>\n",
       "<table border=\"1\" class=\"dataframe\">\n",
       "  <thead>\n",
       "    <tr style=\"text-align: right;\">\n",
       "      <th></th>\n",
       "      <th>top senders</th>\n",
       "      <th>quarter</th>\n",
       "      <th>num contacts</th>\n",
       "    </tr>\n",
       "  </thead>\n",
       "  <tbody>\n",
       "    <tr>\n",
       "      <th>0</th>\n",
       "      <td>chris germany</td>\n",
       "      <td>1999Q3</td>\n",
       "      <td>1</td>\n",
       "    </tr>\n",
       "    <tr>\n",
       "      <th>1</th>\n",
       "      <td>chris germany</td>\n",
       "      <td>1999Q4</td>\n",
       "      <td>7</td>\n",
       "    </tr>\n",
       "    <tr>\n",
       "      <th>2</th>\n",
       "      <td>chris germany</td>\n",
       "      <td>2000Q1</td>\n",
       "      <td>50</td>\n",
       "    </tr>\n",
       "    <tr>\n",
       "      <th>3</th>\n",
       "      <td>chris germany</td>\n",
       "      <td>2000Q2</td>\n",
       "      <td>33</td>\n",
       "    </tr>\n",
       "    <tr>\n",
       "      <th>4</th>\n",
       "      <td>chris germany</td>\n",
       "      <td>2000Q3</td>\n",
       "      <td>28</td>\n",
       "    </tr>\n",
       "  </tbody>\n",
       "</table>\n",
       "</div>"
      ],
      "text/plain": [
       "     top senders quarter  num contacts\n",
       "0  chris germany  1999Q3             1\n",
       "1  chris germany  1999Q4             7\n",
       "2  chris germany  2000Q1            50\n",
       "3  chris germany  2000Q2            33\n",
       "4  chris germany  2000Q3            28"
      ]
     },
     "execution_count": 552,
     "metadata": {},
     "output_type": "execute_result"
    }
   ],
   "source": [
    "Graph_2.head(5)"
   ]
  },
  {
   "cell_type": "code",
   "execution_count": 553,
   "metadata": {},
   "outputs": [
    {
     "data": {
      "image/png": "[encoded data removed]",
      "text/plain": [
       "<Figure size 432x288 with 1 Axes>"
      ]
     },
     "metadata": {
      "needs_background": "light"
     },
     "output_type": "display_data"
    }
   ],
   "source": [
    "plt_graph_2 = Graph_2.groupby(['quarter','top senders']).sum().unstack().plot()\n",
    "\n",
    "fig = plt_graph_2.get_figure()\n",
    "fig.savefig('enron_graph_2.png')"
   ]
  },
  {
   "cell_type": "code",
   "execution_count": null,
   "metadata": {},
   "outputs": [],
   "source": []
  }
 ],
 "metadata": {
  "kernelspec": {
   "display_name": "Python 3",
   "language": "python",
   "name": "python3"
  },
  "language_info": {
   "codemirror_mode": {
    "name": "ipython",
    "version": 3
   },
   "file_extension": ".py",
   "mimetype": "text/x-python",
   "name": "python",
   "nbconvert_exporter": "python",
   "pygments_lexer": "ipython3",
   "version": "3.6.4"
  }
 },
 "nbformat": 4,
 "nbformat_minor": 2
}
